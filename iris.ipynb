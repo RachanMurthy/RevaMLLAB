{
 "cells": [
  {
   "cell_type": "code",
   "execution_count": 5,
   "id": "6abc41d8",
   "metadata": {},
   "outputs": [
    {
     "name": "stdout",
     "output_type": "stream",
     "text": [
      "New dataset shape: (300, 5)\n"
     ]
    }
   ],
   "source": [
    "import numpy as np\n",
    "import pandas as pd\n",
    "from sklearn.datasets import load_iris\n",
    "\n",
    "# Load the Iris dataset\n",
    "iris = load_iris()\n",
    "df = pd.DataFrame(data=iris.data, columns=iris.feature_names)\n",
    "df['species'] = iris.target\n",
    "\n",
    "# Generate synthetic data by adding Gaussian noise\n",
    "def generate_synthetic_data(df, n_records, noise_factor=0.05):\n",
    "    synthetic_data = []\n",
    "    for _ in range(n_records):\n",
    "        row = df.sample(n=1).values\n",
    "        noise = np.random.normal(loc=0, scale=noise_factor, size=row.shape)\n",
    "        synthetic_data.append(row + noise)\n",
    "    \n",
    "    synthetic_df = pd.DataFrame(np.vstack(synthetic_data), columns=df.columns)\n",
    "    synthetic_df['species'] = synthetic_df['species'].round().astype(int)  # Ensure species are integers\n",
    "    return synthetic_df\n",
    "\n",
    "# Generate 150 more synthetic records\n",
    "new_records = generate_synthetic_data(df, n_records=150)\n",
    "\n",
    "# Combine with the original dataset\n",
    "augmented_df = pd.concat([df, new_records], ignore_index=True)\n",
    "\n",
    "# Show the augmented dataset shape\n",
    "print(f\"New dataset shape: {augmented_df.shape}\")\n"
   ]
  },
  {
   "cell_type": "code",
   "execution_count": null,
   "id": "500d2206",
   "metadata": {},
   "outputs": [],
   "source": []
  }
 ],
 "metadata": {
  "kernelspec": {
   "display_name": "Python 3 (ipykernel)",
   "language": "python",
   "name": "python3"
  },
  "language_info": {
   "codemirror_mode": {
    "name": "ipython",
    "version": 3
   },
   "file_extension": ".py",
   "mimetype": "text/x-python",
   "name": "python",
   "nbconvert_exporter": "python",
   "pygments_lexer": "ipython3",
   "version": "3.11.4"
  }
 },
 "nbformat": 4,
 "nbformat_minor": 5
}
